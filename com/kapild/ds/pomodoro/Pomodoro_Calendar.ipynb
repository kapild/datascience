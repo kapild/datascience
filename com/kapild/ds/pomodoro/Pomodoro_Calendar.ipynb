{
 "cells": [
  {
   "cell_type": "markdown",
   "metadata": {},
   "source": [
    "## Pomodor Calendar"
   ]
  },
  {
   "cell_type": "code",
   "execution_count": 36,
   "metadata": {
    "collapsed": true
   },
   "outputs": [],
   "source": [
    "%matplotlib inline\n",
    "import pandas as pd\n",
    "import numpy as np\n",
    "import matplotlib.pyplot as plt"
   ]
  },
  {
   "cell_type": "code",
   "execution_count": 37,
   "metadata": {
    "collapsed": true
   },
   "outputs": [],
   "source": [
    "raw_pomodoro_file_path = \"/Users/kdalwani/code/workspace/datascience/data/data-pomodoro/pomodoro_data_may_30.csv\"\n",
    "pomod = pd.read_csv(raw_pomodoro_file_path, encoding='utf-8-sig')"
   ]
  },
  {
   "cell_type": "code",
   "execution_count": 38,
   "metadata": {
    "collapsed": false
   },
   "outputs": [
    {
     "data": {
      "text/html": [
       "<div>\n",
       "<table border=\"1\" class=\"dataframe\">\n",
       "  <thead>\n",
       "    <tr style=\"text-align: right;\">\n",
       "      <th></th>\n",
       "      <th>Date</th>\n",
       "      <th>Task</th>\n",
       "      <th>Project</th>\n",
       "      <th>Count</th>\n",
       "    </tr>\n",
       "  </thead>\n",
       "  <tbody>\n",
       "    <tr>\n",
       "      <th>0</th>\n",
       "      <td>2015-09-03</td>\n",
       "      <td>NaN</td>\n",
       "      <td>NaN</td>\n",
       "      <td>NaN</td>\n",
       "    </tr>\n",
       "    <tr>\n",
       "      <th>1</th>\n",
       "      <td>NaN</td>\n",
       "      <td>Daily Tasks</td>\n",
       "      <td>NaN</td>\n",
       "      <td>1</td>\n",
       "    </tr>\n",
       "    <tr>\n",
       "      <th>2</th>\n",
       "      <td>2015-09-04</td>\n",
       "      <td>NaN</td>\n",
       "      <td>NaN</td>\n",
       "      <td>NaN</td>\n",
       "    </tr>\n",
       "    <tr>\n",
       "      <th>3</th>\n",
       "      <td>NaN</td>\n",
       "      <td>Grand canyon planning</td>\n",
       "      <td>Default Project</td>\n",
       "      <td>1</td>\n",
       "    </tr>\n",
       "    <tr>\n",
       "      <th>4</th>\n",
       "      <td>NaN</td>\n",
       "      <td>3 most imp. task for today(last change)</td>\n",
       "      <td>iPhone Calendar Event</td>\n",
       "      <td>1</td>\n",
       "    </tr>\n",
       "  </tbody>\n",
       "</table>\n",
       "</div>"
      ],
      "text/plain": [
       "         Date                                     Task                Project  \\\n",
       "0  2015-09-03                                      NaN                    NaN   \n",
       "1         NaN                              Daily Tasks                    NaN   \n",
       "2  2015-09-04                                      NaN                    NaN   \n",
       "3         NaN                   Grand canyon planning         Default Project   \n",
       "4         NaN  3 most imp. task for today(last change)  iPhone Calendar Event   \n",
       "\n",
       "   Count  \n",
       "0    NaN  \n",
       "1      1  \n",
       "2    NaN  \n",
       "3      1  \n",
       "4      1  "
      ]
     },
     "execution_count": 38,
     "metadata": {},
     "output_type": "execute_result"
    }
   ],
   "source": [
    "pomod.head()"
   ]
  },
  {
   "cell_type": "code",
   "execution_count": null,
   "metadata": {
    "collapsed": false
   },
   "outputs": [],
   "source": []
  },
  {
   "cell_type": "code",
   "execution_count": 39,
   "metadata": {
    "collapsed": false
   },
   "outputs": [
    {
     "data": {
      "text/plain": [
       "True"
      ]
     },
     "execution_count": 39,
     "metadata": {},
     "output_type": "execute_result"
    }
   ],
   "source": [
    "pomod.index.is_unique\n"
   ]
  },
  {
   "cell_type": "code",
   "execution_count": 40,
   "metadata": {
    "collapsed": false
   },
   "outputs": [
    {
     "data": {
      "text/plain": [
       "pandas.core.frame.DataFrame"
      ]
     },
     "execution_count": 40,
     "metadata": {},
     "output_type": "execute_result"
    }
   ],
   "source": [
    "type(pomod)"
   ]
  },
  {
   "cell_type": "code",
   "execution_count": 41,
   "metadata": {
    "collapsed": false
   },
   "outputs": [
    {
     "data": {
      "text/plain": [
       "Date       181\n",
       "Task       419\n",
       "Project    410\n",
       "Count      419\n",
       "dtype: int64"
      ]
     },
     "execution_count": 41,
     "metadata": {},
     "output_type": "execute_result"
    }
   ],
   "source": [
    "pomod.count()"
   ]
  },
  {
   "cell_type": "markdown",
   "metadata": {},
   "source": [
    "### Date values have na, so forward fill using fillna() method = ffill"
   ]
  },
  {
   "cell_type": "code",
   "execution_count": 42,
   "metadata": {
    "collapsed": false
   },
   "outputs": [
    {
     "data": {
      "text/plain": [
       "0    2015-09-03\n",
       "1    2015-09-03\n",
       "2    2015-09-04\n",
       "3    2015-09-04\n",
       "4    2015-09-04\n",
       "Name: Date, dtype: object"
      ]
     },
     "execution_count": 42,
     "metadata": {},
     "output_type": "execute_result"
    }
   ],
   "source": [
    "ffill_date = pomod[\"Date\"].fillna(method='ffill')\n",
    "ffill_date.head()"
   ]
  },
  {
   "cell_type": "code",
   "execution_count": 43,
   "metadata": {
    "collapsed": false
   },
   "outputs": [
    {
     "data": {
      "text/plain": [
       "Index([u'Date', u'Task', u'Project', u'Count'], dtype='object')"
      ]
     },
     "execution_count": 43,
     "metadata": {},
     "output_type": "execute_result"
    }
   ],
   "source": [
    "pomod.columns"
   ]
  },
  {
   "cell_type": "code",
   "execution_count": 44,
   "metadata": {
    "collapsed": false
   },
   "outputs": [],
   "source": [
    "pomod[\"new_Date\"] = ffill_date"
   ]
  },
  {
   "cell_type": "code",
   "execution_count": 45,
   "metadata": {
    "collapsed": false
   },
   "outputs": [
    {
     "data": {
      "text/html": [
       "<div>\n",
       "<table border=\"1\" class=\"dataframe\">\n",
       "  <thead>\n",
       "    <tr style=\"text-align: right;\">\n",
       "      <th></th>\n",
       "      <th>Date</th>\n",
       "      <th>Task</th>\n",
       "      <th>Project</th>\n",
       "      <th>Count</th>\n",
       "      <th>new_Date</th>\n",
       "    </tr>\n",
       "  </thead>\n",
       "  <tbody>\n",
       "    <tr>\n",
       "      <th>0</th>\n",
       "      <td>2015-09-03</td>\n",
       "      <td>NaN</td>\n",
       "      <td>NaN</td>\n",
       "      <td>NaN</td>\n",
       "      <td>2015-09-03</td>\n",
       "    </tr>\n",
       "    <tr>\n",
       "      <th>1</th>\n",
       "      <td>NaN</td>\n",
       "      <td>Daily Tasks</td>\n",
       "      <td>NaN</td>\n",
       "      <td>1</td>\n",
       "      <td>2015-09-03</td>\n",
       "    </tr>\n",
       "    <tr>\n",
       "      <th>2</th>\n",
       "      <td>2015-09-04</td>\n",
       "      <td>NaN</td>\n",
       "      <td>NaN</td>\n",
       "      <td>NaN</td>\n",
       "      <td>2015-09-04</td>\n",
       "    </tr>\n",
       "    <tr>\n",
       "      <th>3</th>\n",
       "      <td>NaN</td>\n",
       "      <td>Grand canyon planning</td>\n",
       "      <td>Default Project</td>\n",
       "      <td>1</td>\n",
       "      <td>2015-09-04</td>\n",
       "    </tr>\n",
       "    <tr>\n",
       "      <th>4</th>\n",
       "      <td>NaN</td>\n",
       "      <td>3 most imp. task for today(last change)</td>\n",
       "      <td>iPhone Calendar Event</td>\n",
       "      <td>1</td>\n",
       "      <td>2015-09-04</td>\n",
       "    </tr>\n",
       "  </tbody>\n",
       "</table>\n",
       "</div>"
      ],
      "text/plain": [
       "         Date                                     Task                Project  \\\n",
       "0  2015-09-03                                      NaN                    NaN   \n",
       "1         NaN                              Daily Tasks                    NaN   \n",
       "2  2015-09-04                                      NaN                    NaN   \n",
       "3         NaN                   Grand canyon planning         Default Project   \n",
       "4         NaN  3 most imp. task for today(last change)  iPhone Calendar Event   \n",
       "\n",
       "   Count    new_Date  \n",
       "0    NaN  2015-09-03  \n",
       "1      1  2015-09-03  \n",
       "2    NaN  2015-09-04  \n",
       "3      1  2015-09-04  \n",
       "4      1  2015-09-04  "
      ]
     },
     "execution_count": 45,
     "metadata": {},
     "output_type": "execute_result"
    }
   ],
   "source": [
    "pomod.head()"
   ]
  },
  {
   "cell_type": "code",
   "execution_count": 46,
   "metadata": {
    "collapsed": false
   },
   "outputs": [
    {
     "data": {
      "text/plain": [
       "Index([u'Date', u'Task', u'Project', u'Count', u'new_Date'], dtype='object')"
      ]
     },
     "execution_count": 46,
     "metadata": {},
     "output_type": "execute_result"
    }
   ],
   "source": [
    "pomod.columns"
   ]
  },
  {
   "cell_type": "code",
   "execution_count": 47,
   "metadata": {
    "collapsed": false
   },
   "outputs": [
    {
     "data": {
      "text/plain": [
       "Date        181\n",
       "Task        419\n",
       "Project     410\n",
       "Count       419\n",
       "new_Date    600\n",
       "dtype: int64"
      ]
     },
     "execution_count": 47,
     "metadata": {},
     "output_type": "execute_result"
    }
   ],
   "source": [
    "pomod.count()"
   ]
  },
  {
   "cell_type": "code",
   "execution_count": 48,
   "metadata": {
    "collapsed": false
   },
   "outputs": [],
   "source": [
    "del pomod[\"Date\"]"
   ]
  },
  {
   "cell_type": "code",
   "execution_count": 49,
   "metadata": {
    "collapsed": false
   },
   "outputs": [
    {
     "data": {
      "text/html": [
       "<div>\n",
       "<table border=\"1\" class=\"dataframe\">\n",
       "  <thead>\n",
       "    <tr style=\"text-align: right;\">\n",
       "      <th></th>\n",
       "      <th>Task</th>\n",
       "      <th>Project</th>\n",
       "      <th>Count</th>\n",
       "      <th>new_Date</th>\n",
       "    </tr>\n",
       "  </thead>\n",
       "  <tbody>\n",
       "    <tr>\n",
       "      <th>0</th>\n",
       "      <td>NaN</td>\n",
       "      <td>NaN</td>\n",
       "      <td>NaN</td>\n",
       "      <td>2015-09-03</td>\n",
       "    </tr>\n",
       "    <tr>\n",
       "      <th>1</th>\n",
       "      <td>Daily Tasks</td>\n",
       "      <td>NaN</td>\n",
       "      <td>1</td>\n",
       "      <td>2015-09-03</td>\n",
       "    </tr>\n",
       "    <tr>\n",
       "      <th>2</th>\n",
       "      <td>NaN</td>\n",
       "      <td>NaN</td>\n",
       "      <td>NaN</td>\n",
       "      <td>2015-09-04</td>\n",
       "    </tr>\n",
       "    <tr>\n",
       "      <th>3</th>\n",
       "      <td>Grand canyon planning</td>\n",
       "      <td>Default Project</td>\n",
       "      <td>1</td>\n",
       "      <td>2015-09-04</td>\n",
       "    </tr>\n",
       "    <tr>\n",
       "      <th>4</th>\n",
       "      <td>3 most imp. task for today(last change)</td>\n",
       "      <td>iPhone Calendar Event</td>\n",
       "      <td>1</td>\n",
       "      <td>2015-09-04</td>\n",
       "    </tr>\n",
       "  </tbody>\n",
       "</table>\n",
       "</div>"
      ],
      "text/plain": [
       "                                      Task                Project  Count  \\\n",
       "0                                      NaN                    NaN    NaN   \n",
       "1                              Daily Tasks                    NaN      1   \n",
       "2                                      NaN                    NaN    NaN   \n",
       "3                   Grand canyon planning         Default Project      1   \n",
       "4  3 most imp. task for today(last change)  iPhone Calendar Event      1   \n",
       "\n",
       "     new_Date  \n",
       "0  2015-09-03  \n",
       "1  2015-09-03  \n",
       "2  2015-09-04  \n",
       "3  2015-09-04  \n",
       "4  2015-09-04  "
      ]
     },
     "execution_count": 49,
     "metadata": {},
     "output_type": "execute_result"
    }
   ],
   "source": [
    "pomod.head()"
   ]
  },
  {
   "cell_type": "code",
   "execution_count": 50,
   "metadata": {
    "collapsed": false
   },
   "outputs": [
    {
     "data": {
      "text/plain": [
       "Task        419\n",
       "Project     410\n",
       "Count       419\n",
       "new_Date    600\n",
       "dtype: int64"
      ]
     },
     "execution_count": 50,
     "metadata": {},
     "output_type": "execute_result"
    }
   ],
   "source": [
    "pomod.count()"
   ]
  },
  {
   "cell_type": "markdown",
   "metadata": {},
   "source": [
    "### Drop project and task rows which have Na value. \n",
    "- At this point we only need rows which are not Na"
   ]
  },
  {
   "cell_type": "code",
   "execution_count": 51,
   "metadata": {
    "collapsed": false
   },
   "outputs": [],
   "source": [
    "pomod = pomod.dropna()"
   ]
  },
  {
   "cell_type": "code",
   "execution_count": 52,
   "metadata": {
    "collapsed": false
   },
   "outputs": [
    {
     "data": {
      "text/plain": [
       "Task        0\n",
       "Project     0\n",
       "Count       0\n",
       "new_Date    0\n",
       "dtype: int64"
      ]
     },
     "execution_count": 52,
     "metadata": {},
     "output_type": "execute_result"
    }
   ],
   "source": [
    "pomod.isnull().sum()"
   ]
  },
  {
   "cell_type": "code",
   "execution_count": 53,
   "metadata": {
    "collapsed": false
   },
   "outputs": [],
   "source": [
    "pomod_grpby = pomod.groupby([\"Project\"])"
   ]
  },
  {
   "cell_type": "markdown",
   "metadata": {},
   "source": [
    "### Total Projects"
   ]
  },
  {
   "cell_type": "code",
   "execution_count": 54,
   "metadata": {
    "collapsed": false
   },
   "outputs": [
    {
     "data": {
      "text/plain": [
       "25"
      ]
     },
     "execution_count": 54,
     "metadata": {},
     "output_type": "execute_result"
    }
   ],
   "source": [
    "len(pomod_grpby[\"Project\"])"
   ]
  },
  {
   "cell_type": "code",
   "execution_count": 55,
   "metadata": {
    "collapsed": false
   },
   "outputs": [
    {
     "data": {
      "text/plain": [
       "Project\n",
       "32 A/B: Viewport expansion      9\n",
       "A/B projects                   40\n",
       "Apple Projects                  2\n",
       "Bad habbits                     4\n",
       "Deep Learning                   1\n",
       "Default Project                 7\n",
       "Exercises                      11\n",
       "Habbit                        107\n",
       "Health goal                    27\n",
       "ML related                     41\n",
       "Machine learning                9\n",
       "Name ranking 45                 4\n",
       "Online work                     8\n",
       "Podcast                        11\n",
       "Podcast                        27\n",
       "Reading                         7\n",
       "Reading books                  16\n",
       "SATR                            3\n",
       "Sat 16th                        1\n",
       "Siri API work                  22\n",
       "Sun 17th Jan                    1\n",
       "Tentative 2016 goals            2\n",
       "Work                            2\n",
       "Work Apple                     38\n",
       "iPhone Calendar Event          10\n",
       "Name: Project, dtype: int64"
      ]
     },
     "execution_count": 55,
     "metadata": {},
     "output_type": "execute_result"
    }
   ],
   "source": [
    "pomod_grpby[\"Project\"].count()"
   ]
  },
  {
   "cell_type": "code",
   "execution_count": 56,
   "metadata": {
    "collapsed": false
   },
   "outputs": [],
   "source": [
    "pomod_grpby_task = pomod.groupby([\"Task\"])"
   ]
  },
  {
   "cell_type": "code",
   "execution_count": 57,
   "metadata": {
    "collapsed": false
   },
   "outputs": [
    {
     "data": {
      "text/plain": [
       "(112, Task\n",
       " 13,C                                                 3\n",
       " 13,D                                                 4\n",
       " 2016 goal planning                                   1\n",
       " 24 hour fitness                                      2\n",
       " 3 most imp. task for today(last change)              1\n",
       " 3 most imp. task for tomorrow                        1\n",
       " 300 miles run                                       15\n",
       " 500 miles bike                                       1\n",
       " ADHD experts podcast                                 1\n",
       " ADHD re-wired                                        9\n",
       " Analysis                                             7\n",
       " And query radar                                      1\n",
       " Arms day                                             7\n",
       " Awk blog                                             1\n",
       " Beyond ToDoist podcast                               2\n",
       " Beyond Todo list                                     1\n",
       " Biking                                               1\n",
       " Biking stationary                                    6\n",
       " Bills Errands                                        3\n",
       " Bin definitive issue                                 1\n",
       " Blog Medium                                          3\n",
       " Bullet journal                                       1\n",
       " But running shoes                                    1\n",
       " Chain MM match A/B                                   1\n",
       " Check calendar and Reminders                         1\n",
       " Chest                                                3\n",
       " Clean house                                         14\n",
       " Co-occurence matrix                                  1\n",
       " Code review                                          3\n",
       " Code review 2                                        2\n",
       "                                                     ..\n",
       " Poi chrome plugin                                    2\n",
       " Pomodoro Coding                                      7\n",
       " Pref name first IBE                                 25\n",
       " Presentation and design                              2\n",
       " Protocol changes                                     7\n",
       " RS strict name feature                               3\n",
       " Read Bhagavad Gita                                   3\n",
       " Remove definitive                                    1\n",
       " ResourceFactory discussion                           1\n",
       " SFE Navigation type aware results                    4\n",
       " SFE changes                                          4\n",
       " SciPy 2013 part1                                     1\n",
       " SciPy 2013 part2                                     2\n",
       " SciPy 2013 part3                                     1\n",
       " SciPy 2013 part4                                     1\n",
       " Send email on POI plugin                             1\n",
       " Siri Japan Cfer                                      1\n",
       " Siri radar verify                                    4\n",
       " Siri work                                            3\n",
       " Siri/Maps API Requirements                           1\n",
       " Sort Pocket Read It later                            4\n",
       " Test                                                 1\n",
       " The Yoga Face                                        1\n",
       " Thich Nhat                                           1\n",
       " Udacity                                              1\n",
       " Weekly review every week                            11\n",
       " Yoga                                                 6\n",
       " [Assignment 2 ](https://www.udacity.com/cours...     1\n",
       " [MNIST for Beginners]                                1\n",
       " iPhone watch issue                                   1\n",
       " Name: Task, dtype: int64)"
      ]
     },
     "execution_count": 57,
     "metadata": {},
     "output_type": "execute_result"
    }
   ],
   "source": [
    "len(pomod_grpby_task[\"Task\"]), pomod_grpby_task[\"Task\"].count()"
   ]
  },
  {
   "cell_type": "code",
   "execution_count": 58,
   "metadata": {
    "collapsed": false
   },
   "outputs": [
    {
     "data": {
      "text/html": [
       "<div>\n",
       "<table border=\"1\" class=\"dataframe\">\n",
       "  <thead>\n",
       "    <tr style=\"text-align: right;\">\n",
       "      <th>Project</th>\n",
       "      <th>32 A/B: Viewport expansion</th>\n",
       "      <th>A/B projects</th>\n",
       "      <th>Apple Projects</th>\n",
       "      <th>Bad habbits</th>\n",
       "      <th>Deep Learning</th>\n",
       "      <th>Default Project</th>\n",
       "      <th>Exercises</th>\n",
       "      <th>Habbit</th>\n",
       "      <th>Health goal</th>\n",
       "      <th>ML related</th>\n",
       "      <th>...</th>\n",
       "      <th>Reading</th>\n",
       "      <th>Reading books</th>\n",
       "      <th>SATR</th>\n",
       "      <th>Sat 16th</th>\n",
       "      <th>Siri API work</th>\n",
       "      <th>Sun 17th Jan</th>\n",
       "      <th>Tentative 2016 goals</th>\n",
       "      <th>Work</th>\n",
       "      <th>Work Apple</th>\n",
       "      <th>iPhone Calendar Event</th>\n",
       "    </tr>\n",
       "    <tr>\n",
       "      <th>Task</th>\n",
       "      <th></th>\n",
       "      <th></th>\n",
       "      <th></th>\n",
       "      <th></th>\n",
       "      <th></th>\n",
       "      <th></th>\n",
       "      <th></th>\n",
       "      <th></th>\n",
       "      <th></th>\n",
       "      <th></th>\n",
       "      <th></th>\n",
       "      <th></th>\n",
       "      <th></th>\n",
       "      <th></th>\n",
       "      <th></th>\n",
       "      <th></th>\n",
       "      <th></th>\n",
       "      <th></th>\n",
       "      <th></th>\n",
       "      <th></th>\n",
       "      <th></th>\n",
       "    </tr>\n",
       "  </thead>\n",
       "  <tbody>\n",
       "    <tr>\n",
       "      <th>13,C</th>\n",
       "      <td>NaN</td>\n",
       "      <td>NaN</td>\n",
       "      <td>NaN</td>\n",
       "      <td>NaN</td>\n",
       "      <td>NaN</td>\n",
       "      <td>NaN</td>\n",
       "      <td>NaN</td>\n",
       "      <td>NaN</td>\n",
       "      <td>NaN</td>\n",
       "      <td>NaN</td>\n",
       "      <td>...</td>\n",
       "      <td>NaN</td>\n",
       "      <td>NaN</td>\n",
       "      <td>NaN</td>\n",
       "      <td>NaN</td>\n",
       "      <td>NaN</td>\n",
       "      <td>NaN</td>\n",
       "      <td>NaN</td>\n",
       "      <td>NaN</td>\n",
       "      <td>13</td>\n",
       "      <td>NaN</td>\n",
       "    </tr>\n",
       "    <tr>\n",
       "      <th>13,D</th>\n",
       "      <td>NaN</td>\n",
       "      <td>NaN</td>\n",
       "      <td>NaN</td>\n",
       "      <td>NaN</td>\n",
       "      <td>NaN</td>\n",
       "      <td>NaN</td>\n",
       "      <td>NaN</td>\n",
       "      <td>NaN</td>\n",
       "      <td>NaN</td>\n",
       "      <td>NaN</td>\n",
       "      <td>...</td>\n",
       "      <td>NaN</td>\n",
       "      <td>NaN</td>\n",
       "      <td>NaN</td>\n",
       "      <td>NaN</td>\n",
       "      <td>NaN</td>\n",
       "      <td>NaN</td>\n",
       "      <td>NaN</td>\n",
       "      <td>NaN</td>\n",
       "      <td>7</td>\n",
       "      <td>NaN</td>\n",
       "    </tr>\n",
       "    <tr>\n",
       "      <th>2016 goal planning</th>\n",
       "      <td>NaN</td>\n",
       "      <td>NaN</td>\n",
       "      <td>NaN</td>\n",
       "      <td>NaN</td>\n",
       "      <td>NaN</td>\n",
       "      <td>NaN</td>\n",
       "      <td>NaN</td>\n",
       "      <td>NaN</td>\n",
       "      <td>NaN</td>\n",
       "      <td>NaN</td>\n",
       "      <td>...</td>\n",
       "      <td>NaN</td>\n",
       "      <td>NaN</td>\n",
       "      <td>NaN</td>\n",
       "      <td>NaN</td>\n",
       "      <td>NaN</td>\n",
       "      <td>NaN</td>\n",
       "      <td>2</td>\n",
       "      <td>NaN</td>\n",
       "      <td>NaN</td>\n",
       "      <td>NaN</td>\n",
       "    </tr>\n",
       "    <tr>\n",
       "      <th>24 hour fitness</th>\n",
       "      <td>NaN</td>\n",
       "      <td>NaN</td>\n",
       "      <td>NaN</td>\n",
       "      <td>NaN</td>\n",
       "      <td>NaN</td>\n",
       "      <td>NaN</td>\n",
       "      <td>3</td>\n",
       "      <td>NaN</td>\n",
       "      <td>NaN</td>\n",
       "      <td>NaN</td>\n",
       "      <td>...</td>\n",
       "      <td>NaN</td>\n",
       "      <td>NaN</td>\n",
       "      <td>NaN</td>\n",
       "      <td>NaN</td>\n",
       "      <td>NaN</td>\n",
       "      <td>NaN</td>\n",
       "      <td>NaN</td>\n",
       "      <td>NaN</td>\n",
       "      <td>NaN</td>\n",
       "      <td>NaN</td>\n",
       "    </tr>\n",
       "    <tr>\n",
       "      <th>3 most imp. task for today(last change)</th>\n",
       "      <td>NaN</td>\n",
       "      <td>NaN</td>\n",
       "      <td>NaN</td>\n",
       "      <td>NaN</td>\n",
       "      <td>NaN</td>\n",
       "      <td>NaN</td>\n",
       "      <td>NaN</td>\n",
       "      <td>NaN</td>\n",
       "      <td>NaN</td>\n",
       "      <td>NaN</td>\n",
       "      <td>...</td>\n",
       "      <td>NaN</td>\n",
       "      <td>NaN</td>\n",
       "      <td>NaN</td>\n",
       "      <td>NaN</td>\n",
       "      <td>NaN</td>\n",
       "      <td>NaN</td>\n",
       "      <td>NaN</td>\n",
       "      <td>NaN</td>\n",
       "      <td>NaN</td>\n",
       "      <td>1</td>\n",
       "    </tr>\n",
       "  </tbody>\n",
       "</table>\n",
       "<p>5 rows × 25 columns</p>\n",
       "</div>"
      ],
      "text/plain": [
       "Project                                  32 A/B: Viewport expansion  \\\n",
       "Task                                                                  \n",
       "13,C                                                            NaN   \n",
       "13,D                                                            NaN   \n",
       "2016 goal planning                                              NaN   \n",
       "24 hour fitness                                                 NaN   \n",
       "3 most imp. task for today(last change)                         NaN   \n",
       "\n",
       "Project                                  A/B projects  Apple Projects  \\\n",
       "Task                                                                    \n",
       "13,C                                              NaN             NaN   \n",
       "13,D                                              NaN             NaN   \n",
       "2016 goal planning                                NaN             NaN   \n",
       "24 hour fitness                                   NaN             NaN   \n",
       "3 most imp. task for today(last change)           NaN             NaN   \n",
       "\n",
       "Project                                  Bad habbits  Deep Learning  \\\n",
       "Task                                                                  \n",
       "13,C                                             NaN            NaN   \n",
       "13,D                                             NaN            NaN   \n",
       "2016 goal planning                               NaN            NaN   \n",
       "24 hour fitness                                  NaN            NaN   \n",
       "3 most imp. task for today(last change)          NaN            NaN   \n",
       "\n",
       "Project                                  Default Project  Exercises   Habbit  \\\n",
       "Task                                                                           \n",
       "13,C                                                 NaN         NaN     NaN   \n",
       "13,D                                                 NaN         NaN     NaN   \n",
       "2016 goal planning                                   NaN         NaN     NaN   \n",
       "24 hour fitness                                      NaN           3     NaN   \n",
       "3 most imp. task for today(last change)              NaN         NaN     NaN   \n",
       "\n",
       "Project                                  Health goal  ML related  \\\n",
       "Task                                                               \n",
       "13,C                                             NaN         NaN   \n",
       "13,D                                             NaN         NaN   \n",
       "2016 goal planning                               NaN         NaN   \n",
       "24 hour fitness                                  NaN         NaN   \n",
       "3 most imp. task for today(last change)          NaN         NaN   \n",
       "\n",
       "Project                                          ...            Reading  \\\n",
       "Task                                             ...                      \n",
       "13,C                                             ...                NaN   \n",
       "13,D                                             ...                NaN   \n",
       "2016 goal planning                               ...                NaN   \n",
       "24 hour fitness                                  ...                NaN   \n",
       "3 most imp. task for today(last change)          ...                NaN   \n",
       "\n",
       "Project                                  Reading books   SATR  Sat 16th  \\\n",
       "Task                                                                      \n",
       "13,C                                                NaN   NaN       NaN   \n",
       "13,D                                                NaN   NaN       NaN   \n",
       "2016 goal planning                                  NaN   NaN       NaN   \n",
       "24 hour fitness                                     NaN   NaN       NaN   \n",
       "3 most imp. task for today(last change)             NaN   NaN       NaN   \n",
       "\n",
       "Project                                  Siri API work  Sun 17th Jan  \\\n",
       "Task                                                                   \n",
       "13,C                                               NaN           NaN   \n",
       "13,D                                               NaN           NaN   \n",
       "2016 goal planning                                 NaN           NaN   \n",
       "24 hour fitness                                    NaN           NaN   \n",
       "3 most imp. task for today(last change)            NaN           NaN   \n",
       "\n",
       "Project                                  Tentative 2016 goals  Work  \\\n",
       "Task                                                                  \n",
       "13,C                                                      NaN   NaN   \n",
       "13,D                                                      NaN   NaN   \n",
       "2016 goal planning                                          2   NaN   \n",
       "24 hour fitness                                           NaN   NaN   \n",
       "3 most imp. task for today(last change)                   NaN   NaN   \n",
       "\n",
       "Project                                  Work Apple  iPhone Calendar Event  \n",
       "Task                                                                        \n",
       "13,C                                             13                    NaN  \n",
       "13,D                                              7                    NaN  \n",
       "2016 goal planning                              NaN                    NaN  \n",
       "24 hour fitness                                 NaN                    NaN  \n",
       "3 most imp. task for today(last change)         NaN                      1  \n",
       "\n",
       "[5 rows x 25 columns]"
      ]
     },
     "execution_count": 58,
     "metadata": {},
     "output_type": "execute_result"
    }
   ],
   "source": [
    "cross =  pd.crosstab([pomod.Task], pomod.Project, \n",
    "                   values=pomod.Count ,aggfunc=np.sum)\n",
    "cross.head()"
   ]
  },
  {
   "cell_type": "code",
   "execution_count": 59,
   "metadata": {
    "collapsed": false
   },
   "outputs": [
    {
     "data": {
      "text/plain": [
       "Task\n",
       "Co-occurence matrix                                  3\n",
       "Figure out library D3                                3\n",
       "Foursquare Coding                                    8\n",
       "Foursquare blogging                                 25\n",
       "Mining massive data set                             22\n",
       "NY restaurant Coding                                 1\n",
       "Panda SciPy worksheet                               17\n",
       "Pomodoro Coding                                     22\n",
       "SciPy 2013 part1                                     4\n",
       "SciPy 2013 part2                                     5\n",
       "SciPy 2013 part3                                     1\n",
       "SciPy 2013 part4                                     3\n",
       "Udacity                                              5\n",
       "[Assignment 2 ](https://www.udacity.com/cours...     2\n",
       "Name: ML related, dtype: float64"
      ]
     },
     "execution_count": 59,
     "metadata": {},
     "output_type": "execute_result"
    }
   ],
   "source": [
    "cross['ML related'][ cross['ML related'] > 0]"
   ]
  },
  {
   "cell_type": "code",
   "execution_count": 60,
   "metadata": {
    "collapsed": false
   },
   "outputs": [
    {
     "data": {
      "text/plain": [
       "Index([u'32 A/B: Viewport expansion',               u'A/B projects',\n",
       "                   u'Apple Projects',                u'Bad habbits',\n",
       "                    u'Deep Learning',            u'Default Project',\n",
       "                       u'Exercises ',                     u'Habbit',\n",
       "                      u'Health goal',                 u'ML related',\n",
       "                 u'Machine learning',            u'Name ranking 45',\n",
       "                      u'Online work',                    u'Podcast',\n",
       "                         u'Podcast ',                    u'Reading',\n",
       "                   u'Reading books ',                       u'SATR',\n",
       "                         u'Sat 16th',              u'Siri API work',\n",
       "                     u'Sun 17th Jan',       u'Tentative 2016 goals',\n",
       "                             u'Work',                 u'Work Apple',\n",
       "            u'iPhone Calendar Event'],\n",
       "      dtype='object', name=u'Project')"
      ]
     },
     "execution_count": 60,
     "metadata": {},
     "output_type": "execute_result"
    }
   ],
   "source": [
    "cross.columns"
   ]
  },
  {
   "cell_type": "code",
   "execution_count": 61,
   "metadata": {
    "collapsed": false
   },
   "outputs": [
    {
     "data": {
      "text/plain": [
       "<matplotlib.axes._subplots.AxesSubplot at 0x10fc50750>"
      ]
     },
     "execution_count": 61,
     "metadata": {},
     "output_type": "execute_result"
    },
    {
     "data": {
      "image/png": "[encoded data removed]",
      "text/plain": [
       "<matplotlib.figure.Figure at 0x10ffbd490>"
      ]
     },
     "metadata": {},
     "output_type": "display_data"
    }
   ],
   "source": [
    "cross['ML related'][ cross['ML related'] > 0].plot(kind='bar')"
   ]
  },
  {
   "cell_type": "code",
   "execution_count": 62,
   "metadata": {
    "collapsed": false
   },
   "outputs": [
    {
     "data": {
      "text/plain": [
       "<matplotlib.axes._subplots.AxesSubplot at 0x110109650>"
      ]
     },
     "execution_count": 62,
     "metadata": {},
     "output_type": "execute_result"
    },
    {
     "data": {
      "image/png": "[encoded data removed]",
      "text/plain": [
       "<matplotlib.figure.Figure at 0x10fc507d0>"
      ]
     },
     "metadata": {},
     "output_type": "display_data"
    }
   ],
   "source": [
    "cross['Habbit'][ cross['Habbit'] > 0].plot(kind='bar', grid=True)"
   ]
  },
  {
   "cell_type": "code",
   "execution_count": 63,
   "metadata": {
    "collapsed": false
   },
   "outputs": [
    {
     "data": {
      "text/plain": [
       "<matplotlib.axes._subplots.AxesSubplot at 0x1102ded90>"
      ]
     },
     "execution_count": 63,
     "metadata": {},
     "output_type": "execute_result"
    },
    {
     "data": {
      "image/png": "[encoded data removed]",
      "text/plain": [
       "<matplotlib.figure.Figure at 0x11027b850>"
      ]
     },
     "metadata": {},
     "output_type": "display_data"
    }
   ],
   "source": [
    "cross['Reading'][ cross['Reading'] > 0].plot(kind='bar', grid=True)"
   ]
  },
  {
   "cell_type": "code",
   "execution_count": 64,
   "metadata": {
    "collapsed": false
   },
   "outputs": [
    {
     "data": {
      "image/png": "[encoded data removed]",
      "text/plain": [
       "<matplotlib.figure.Figure at 0x1102f59d0>"
      ]
     },
     "metadata": {},
     "output_type": "display_data"
    }
   ],
   "source": [
    "habbit = 'Reading books '\n",
    "\n",
    "def filter_habbit(habbit):\n",
    "    return cross[habbit][cross[habbit] > 0]\n",
    "def plot_habbit(habbit):\n",
    "     ft = filter_habbit(habbit)\n",
    "     ft.sort(axis=0, ascending=False)\n",
    "     ft.plot(kind='bar', grid=True)\n",
    "\n",
    "plot_habbit(habbit)\n",
    "habbit = 'Reading books '\n",
    "habbit_2 = 'Reading'\n",
    "reading_habbit = filter_habbit(habbit) + filter_habbit(habbit_2)\n"
   ]
  },
  {
   "cell_type": "code",
   "execution_count": 65,
   "metadata": {
    "collapsed": false
   },
   "outputs": [
    {
     "data": {
      "image/png": "[encoded data removed]",
      "text/plain": [
       "<matplotlib.figure.Figure at 0x110288c10>"
      ]
     },
     "metadata": {},
     "output_type": "display_data"
    }
   ],
   "source": [
    "plot_habbit('Habbit')"
   ]
  },
  {
   "cell_type": "code",
   "execution_count": 66,
   "metadata": {
    "collapsed": false
   },
   "outputs": [],
   "source": [
    "grp_by_project = pomod.groupby(\"Project\")"
   ]
  },
  {
   "cell_type": "code",
   "execution_count": 67,
   "metadata": {
    "collapsed": false
   },
   "outputs": [
    {
     "data": {
      "text/plain": [
       "<matplotlib.axes._subplots.AxesSubplot at 0x1104f8410>"
      ]
     },
     "execution_count": 67,
     "metadata": {},
     "output_type": "execute_result"
    },
    {
     "data": {
      "image/png": "[encoded data removed]",
      "text/plain": [
       "<matplotlib.figure.Figure at 0x10f6bdf90>"
      ]
     },
     "metadata": {},
     "output_type": "display_data"
    }
   ],
   "source": [
    "project= grp_by_project[\"Count\"]\n",
    "p = project.count()\n",
    "p.sort(axis=0, ascending=False)\n",
    "p.plot(kind='bar', grid=True)"
   ]
  },
  {
   "cell_type": "code",
   "execution_count": 68,
   "metadata": {
    "collapsed": false
   },
   "outputs": [
    {
     "data": {
      "text/html": [
       "<div>\n",
       "<table border=\"1\" class=\"dataframe\">\n",
       "  <thead>\n",
       "    <tr style=\"text-align: right;\">\n",
       "      <th></th>\n",
       "      <th>Task</th>\n",
       "      <th>Project</th>\n",
       "      <th>Count</th>\n",
       "      <th>new_Date</th>\n",
       "    </tr>\n",
       "  </thead>\n",
       "  <tbody>\n",
       "    <tr>\n",
       "      <th>3</th>\n",
       "      <td>Grand canyon planning</td>\n",
       "      <td>Default Project</td>\n",
       "      <td>1</td>\n",
       "      <td>2015-09-04</td>\n",
       "    </tr>\n",
       "    <tr>\n",
       "      <th>4</th>\n",
       "      <td>3 most imp. task for today(last change)</td>\n",
       "      <td>iPhone Calendar Event</td>\n",
       "      <td>1</td>\n",
       "      <td>2015-09-04</td>\n",
       "    </tr>\n",
       "    <tr>\n",
       "      <th>6</th>\n",
       "      <td>Thich Nhat</td>\n",
       "      <td>Reading books</td>\n",
       "      <td>2</td>\n",
       "      <td>2015-09-05</td>\n",
       "    </tr>\n",
       "    <tr>\n",
       "      <th>7</th>\n",
       "      <td>K means understanding</td>\n",
       "      <td>Machine learning</td>\n",
       "      <td>3</td>\n",
       "      <td>2015-09-05</td>\n",
       "    </tr>\n",
       "    <tr>\n",
       "      <th>9</th>\n",
       "      <td>24 hour fitness</td>\n",
       "      <td>Exercises</td>\n",
       "      <td>2</td>\n",
       "      <td>2015-09-06</td>\n",
       "    </tr>\n",
       "  </tbody>\n",
       "</table>\n",
       "</div>"
      ],
      "text/plain": [
       "                                      Task                Project  Count  \\\n",
       "3                   Grand canyon planning         Default Project      1   \n",
       "4  3 most imp. task for today(last change)  iPhone Calendar Event      1   \n",
       "6                              Thich Nhat          Reading books       2   \n",
       "7                   K means understanding        Machine learning      3   \n",
       "9                         24 hour fitness              Exercises       2   \n",
       "\n",
       "     new_Date  \n",
       "3  2015-09-04  \n",
       "4  2015-09-04  \n",
       "6  2015-09-05  \n",
       "7  2015-09-05  \n",
       "9  2015-09-06  "
      ]
     },
     "execution_count": 68,
     "metadata": {},
     "output_type": "execute_result"
    }
   ],
   "source": [
    "pomod.head()"
   ]
  },
  {
   "cell_type": "code",
   "execution_count": 69,
   "metadata": {
    "collapsed": false
   },
   "outputs": [],
   "source": [
    "pomod[\"Date\"] = pomod[\"new_Date\"]\n",
    "write_pomod = pomod.copy()\n",
    "del write_pomod[\"new_Date\"]\n",
    "header = [\"Date\", \"Pomodoro\", \"Project\", \"Count\"]\n",
    "write_pomod[\"Pomodoro\"] = write_pomod[\"Task\"]\n",
    "write_pomod.to_csv(raw_pomodoro_file_path + \"_out_.csv\", columns=header, index = False)\n"
   ]
  },
  {
   "cell_type": "code",
   "execution_count": 70,
   "metadata": {
    "collapsed": false
   },
   "outputs": [
    {
     "data": {
      "image/png": "[encoded data removed]",
      "text/plain": [
       "<matplotlib.figure.Figure at 0x110369c50>"
      ]
     },
     "metadata": {},
     "output_type": "display_data"
    }
   ],
   "source": [
    "plot_habbit(\"ML related\")"
   ]
  },
  {
   "cell_type": "code",
   "execution_count": null,
   "metadata": {
    "collapsed": true
   },
   "outputs": [],
   "source": []
  }
 ],
 "metadata": {
  "kernelspec": {
   "display_name": "Python 2",
   "language": "python",
   "name": "python2"
  },
  "language_info": {
   "codemirror_mode": {
    "name": "ipython",
    "version": 2
   },
   "file_extension": ".py",
   "mimetype": "text/x-python",
   "name": "python",
   "nbconvert_exporter": "python",
   "pygments_lexer": "ipython2",
   "version": "2.7.10"
  }
 },
 "nbformat": 4,
 "nbformat_minor": 0
}
